{
  "nbformat": 4,
  "nbformat_minor": 0,
  "metadata": {
    "colab": {
      "name": "Dataset1.ipynb",
      "provenance": [],
      "collapsed_sections": [],
      "toc_visible": true
    },
    "kernelspec": {
      "name": "python3",
      "display_name": "Python 3"
    }
  },
  "cells": [
    {
      "cell_type": "markdown",
      "metadata": {
        "id": "AqVlL-qo4TGw",
        "colab_type": "text"
      },
      "source": [
        "#**Wholesale Dataset**\n"
      ]
    },
    {
      "cell_type": "markdown",
      "metadata": {
        "id": "HKlQ-GXH4aY4",
        "colab_type": "text"
      },
      "source": [
        "ไฟล์ \"Wholesale customers data.csv\" (download จาก https://archive.ics.uci.edu/ml/machine-learning-databases/00292/) เป็นข้อมูลเกี่ยวกับยอดการขายสินค้าประเภทต่างๆ ในแต่ละภูมิภาค ผ่าน 2 ช่องทาง คือ Horeca (Hotel/Restaurant/Cafe) หรือ Retail จาก UCI Machine Learning Repository โดยแถวแรกเป็นชื่อคอลัมน์ และ แถวที่ 2 เป็นต้นไปเก็บข้อมูล\n",
        "\n",
        "ประเภทของสินค้า คือ fresh products, milk products, grocery products, forzen products, detergents and papers และ delicatessen\n",
        "\n",
        "คอลัมน์ CHANNEL เป็นช่องทางการขาย ที่มีค่าเป็น Horeca (Hotel/Restaurant/Cafe) หรือ Retail (1,2)\n",
        "คอลัมน์ REGION: เป็นภูมิภาค ได้แก่ Lisnon, Oporto หรือ Other (1,2,3)\n",
        "คอลัมน์ FRESH, MILK, GROCERY, FROZEN, DETERGENTS_PAPER, DELICATESSEN เป็นยอดขายของสินค้าแต่ละประเภทในภูมิภาคนั้น ผ่านช่องทางนั้นในหนึ่งปี"
      ]
    },
    {
      "cell_type": "markdown",
      "metadata": {
        "id": "aWHc1kgj_HFZ",
        "colab_type": "text"
      },
      "source": [
        "\n",
        "\n",
        "1) เขียนโปรแกรมเพื่อแปลงข้อมูลช่องทางการขายและภูมิภาค จากตัวเลขให้เป็นชื่อของแต่ละช่องทางการขายและภูมิภาคนั้น ๆ จากนั้นบันทึกเป็นไฟล์ใหม่ที่มีชื่อว่า Rename_Wholesale.csv โดยจะใช้ไฟล์นี้เป็นหลักในข้อถัดไป\n",
        "\n",
        "2) เขียนโปรแกรมเพื่อหายอดขายรวมจากทุกช่องทาง ในทุกภูมิภาค สำหรับสินค้าแต่ละประเภทแล้ววาด pie chart\n",
        "\n",
        "3) เขียนโปรแกรมเพื่อหายอดขายรวมของสินค้าทุกประเภท ในทุกช่องทาง สำหรับแต่ละภูมิภาคแล้ววาด pie chart\n",
        "\n",
        "4) เขียนโปรแกรมเพื่อหายอดขายรวมของสินค้าสำหรับทำความสะอาดในแต่ละช่องทางการขาย โดยแบ่งเป็นของแต่ละภูมิภาค พร้อมพล็อตกราฟของแต่ละภูมิภาค\n",
        "\n",
        "5) เขียนโปรแกรมเพื่อหาจำนวนปีที่ยอดขายของอาหารสดรวมกับอาหารแช่แข็งผ่านช่องทาง Horeca(Hotel/Restaurant/Cafe) ไม่เกิน 1,000 ชิ้น\n",
        "\n",
        "6) เขียนโปรแกรมเพื่อหาภูมิภาคที่มีการบริโภคนมมากที่สุด และในภูมิภาคนั้นมีการบริโภคนมมากกว่าอาหารสดทั้งหมดกี่ปี"
      ]
    },
    {
      "cell_type": "markdown",
      "metadata": {
        "id": "RxkLg42e_4XV",
        "colab_type": "text"
      },
      "source": [
        "##1) เขียนโปรแกรมเพื่อแปลงข้อมูลช่องทางการขายและภูมิภาค จากตัวเลขให้เป็นชื่อของแต่ละช่องทางการขายและภูมิภาคนั้น ๆ จากนั้นบันทึกเป็นไฟล์ใหม่ที่มีชื่อว่า Rename_Wholesale.csv โดยจะใช้ไฟล์นี้เป็นหลักในข้อถัดไป"
      ]
    },
    {
      "cell_type": "code",
      "metadata": {
        "id": "7t7s8SY0n6Eh",
        "colab_type": "code",
        "colab": {}
      },
      "source": [
        "#Solution\n"
      ],
      "execution_count": 0,
      "outputs": []
    },
    {
      "cell_type": "markdown",
      "metadata": {
        "id": "E-ZHAoStLxBv",
        "colab_type": "text"
      },
      "source": [
        "##2) เขียนโปรแกรมเพื่อหายอดขายรวมจากทุกช่องทาง ในทุกภูมิภาค สำหรับสินค้าแต่ละประเภทแล้ววาด pie chart\n",
        "\n"
      ]
    },
    {
      "cell_type": "code",
      "metadata": {
        "id": "seXxNb7Bn8eg",
        "colab_type": "code",
        "colab": {}
      },
      "source": [
        "#Solution"
      ],
      "execution_count": 0,
      "outputs": []
    },
    {
      "cell_type": "markdown",
      "metadata": {
        "id": "KEzo9D08zUI7",
        "colab_type": "text"
      },
      "source": [
        "##3) เขียนโปรแกรมเพื่อหายอดขายรวมของสินค้าทุกประเภท ในทุกช่องทาง สำหรับแต่ละภูมิภาคแล้ววาด pie chart"
      ]
    },
    {
      "cell_type": "code",
      "metadata": {
        "id": "L6fF0inBn9Jm",
        "colab_type": "code",
        "colab": {}
      },
      "source": [
        "#Solution"
      ],
      "execution_count": 0,
      "outputs": []
    },
    {
      "cell_type": "markdown",
      "metadata": {
        "id": "9QWd21l29blB",
        "colab_type": "text"
      },
      "source": [
        "##4) เขียนโปรแกรมเพื่อหายอดขายรวมของสินค้าสำหรับทำความสะอาดในแต่ละช่องทางการขาย โดยแบ่งเป็นของแต่ละภูมิภาค พร้อมพล็อตกราฟของแต่ละภูมิภาค"
      ]
    },
    {
      "cell_type": "code",
      "metadata": {
        "id": "-_Slg0Tyn92x",
        "colab_type": "code",
        "colab": {}
      },
      "source": [
        "#Solution"
      ],
      "execution_count": 0,
      "outputs": []
    },
    {
      "cell_type": "markdown",
      "metadata": {
        "id": "Slm38QqAL-RI",
        "colab_type": "text"
      },
      "source": [
        "##5) เขียนโปรแกรมเพื่อหาจำนวนปีที่ยอดขายของอาหารสดรวมกับอาหารแช่แข็งผ่านช่องทาง Horeca(Hotel/Restaurant/Cafe) ไม่เกิน 1,000 ชิ้น"
      ]
    },
    {
      "cell_type": "code",
      "metadata": {
        "id": "B4zcE7fen-fE",
        "colab_type": "code",
        "colab": {}
      },
      "source": [
        "#Solution"
      ],
      "execution_count": 0,
      "outputs": []
    },
    {
      "cell_type": "markdown",
      "metadata": {
        "id": "4bjUuOtxP2ui",
        "colab_type": "text"
      },
      "source": [
        "##6) เขียนโปรแกรมเพื่อหาภูมิภาคที่มีการบริโภคนมมากที่สุด และในภูมิภาคนั้นมีการบริโภคนมมากกว่าอาหารสดทั้งหมดกี่ปี"
      ]
    },
    {
      "cell_type": "code",
      "metadata": {
        "id": "u3Gk1A00n_EH",
        "colab_type": "code",
        "colab": {}
      },
      "source": [
        "#Solution"
      ],
      "execution_count": 0,
      "outputs": []
    }
  ]
}